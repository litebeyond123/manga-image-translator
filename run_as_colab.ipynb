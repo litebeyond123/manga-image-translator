{
 "cells": [
  {
   "cell_type": "markdown",
   "metadata": {},
   "source": [
    "# For users who don't have a GPU!"
   ]
  },
  {
   "cell_type": "code",
   "execution_count": null,
   "metadata": {},
   "outputs": [],
   "source": [
    "# If the Colab's default python version is not 3.8 or higher, run it.\n",
    "!sudo apt-get update -y\n",
    "!sudo apt-get install python3.8 python3.8-dev\n",
    "!wget https://bootstrap.pypa.io/get-pip.py -P /tmp\n",
    "!python3.8 /tmp/get-pip.py"
   ]
  },
  {
   "cell_type": "code",
   "execution_count": null,
   "metadata": {},
   "outputs": [],
   "source": [
    "# Set up the environment.\n",
    "!git clone https://github.com/zyddnys/manga-image-translator\n",
    "%cd manga-image-translator/\n",
    "!python3.8 -m pip install -r requirements.txt\n",
    "!python3.8 -m pip install git+https://github.com/lucasb-eyer/pydensecrf.git\n",
    "\n",
    "# Download pretrained models.\n",
    "!wget https://github.com/zyddnys/manga-image-translator/releases/download/beta-0.2.1/comictextdetector.pt\n",
    "!wget https://github.com/zyddnys/manga-image-translator/releases/download/beta-0.2.1/comictextdetector.pt.onnx\n",
    "!wget https://github.com/zyddnys/manga-image-translator/releases/download/beta-0.2.1/detect.ckpt\n",
    "!wget https://github.com/zyddnys/manga-image-translator/releases/download/beta-0.2.1/inpainting.ckpt\n",
    "!wget https://github.com/zyddnys/manga-image-translator/releases/download/beta-0.2.1/ocr.ckpt"
   ]
  },
  {
   "cell_type": "code",
   "execution_count": null,
   "metadata": {},
   "outputs": [],
   "source": [
    "# Run with colab. GPU must be selected at runtime!\n",
    "from google.colab.output import eval_js\n",
    "url = eval_js(\"google.colab.kernel.proxyPort(5003)\")\n",
    "print('Open the link to use manga-image-translator! -> ', url)\n",
    "!python3.8 translate_demo.py --verbose --mode web --use-inpainting --use-cuda"
   ]
  }
 ],
 "metadata": {
  "language_info": {
   "name": "python"
  },
  "orig_nbformat": 4
 },
 "nbformat": 4,
 "nbformat_minor": 2
}
