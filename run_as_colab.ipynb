{
 "cells": [
  {
   "cell_type": "markdown",
   "metadata": {},
   "source": [
    "# For users who don't have a GPU!"
   ]
  },
  {
   "cell_type": "code",
   "execution_count": null,
   "metadata": {},
   "outputs": [],
   "source": [
    "# Set up the environment.\n",
    "!git clone https://github.com/zyddnys/manga-image-translator\n",
    "%cd manga-image-translator/\n",
    "!python -m pip install -r requirements.txt\n",
    "!python -m pip install git+https://github.com/lucasb-eyer/pydensecrf.git\n",
    "\n",
    "# Download pretrained models.\n",
    "!wget https://github.com/zyddnys/manga-image-translator/releases/download/beta-0.3/comictextdetector.pt\n",
    "!wget https://github.com/zyddnys/manga-image-translator/releases/download/beta-0.3/comictextdetector.pt.onnx\n",
    "!wget https://github.com/zyddnys/manga-image-translator/releases/download/beta-0.3/detect.ckpt\n",
    "!wget https://github.com/zyddnys/manga-image-translator/releases/download/beta-0.3/inpainting.ckpt\n",
    "!wget https://github.com/zyddnys/manga-image-translator/releases/download/beta-0.3/ocr.ckpt\n",
    "!wget https://github.com/zyddnys/manga-image-translator/releases/download/beta-0.3/ocr-ctc.ckpt"
   ]
  },
  {
   "cell_type": "code",
   "execution_count": null,
   "metadata": {},
   "outputs": [],
   "source": [
    "# Run with colab. GPU must be selected at runtime!\n",
    "from google.colab.output import eval_js\n",
    "url = eval_js(\"google.colab.kernel.proxyPort(5003)\")\n",
    "print('Open the link to use manga-image-translator! -> ', url)\n",
    "!python translate_demo.py --verbose --mode web --use-inpainting --use-cuda"
   ]
  }
 ],
 "metadata": {
  "language_info": {
   "name": "python"
  },
  "orig_nbformat": 4
 },
 "nbformat": 4,
 "nbformat_minor": 2
}
